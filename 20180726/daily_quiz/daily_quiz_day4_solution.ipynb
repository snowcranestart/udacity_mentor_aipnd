{
 "cells": [
  {
   "cell_type": "markdown",
   "metadata": {},
   "source": [
    "# 每日一问：第四天"
   ]
  },
  {
   "cell_type": "markdown",
   "metadata": {},
   "source": [
    "### 任务\n",
    "\n",
    "- 练习zip, enumerate等内置函数以及列表推导式的用法。\n",
    "- 练习使用jupyter notebook基本命令\n",
    "    - 切换到命令模式：**Esc**\n",
    "    - 在区域前插入Cell: **A** \n",
    "    - 在区域后插入Cell: **B**\n",
    "    - 切换成Markdown模式： **M**\n",
    "    - Markdown双击开始编辑    \n",
    "    - Code和Markdown区域运行：**Shift + Enter**\n",
    "    - 更多用法你可以参考课程内容，也可以查阅 jupyter notebook [帮助文档](https://jupyter.org/documentation)\n",
    "- 在练习的过程中，如果你遇到问题，你可以回顾课程内容，也可以查阅 [Python官方文档](https://docs.python.org/3/)。\n",
    "- 请每位同学选择下面与自己学号对应的问题练习， 学有余力的同学也可以完成所有练习。"
   ]
  },
  {
   "cell_type": "markdown",
   "metadata": {},
   "source": [
    "### 问题1：\n",
    "a=['a','b ','c ','d']，b=[1, 2, 3, 4]，print(list(zip(a, b)))的结果是什么？"
   ]
  },
  {
   "cell_type": "code",
   "execution_count": 4,
   "metadata": {},
   "outputs": [
    {
     "name": "stdout",
     "output_type": "stream",
     "text": [
      "[('a', 1), ('b ', 2), ('c ', 3), ('d', 4)]\n"
     ]
    }
   ],
   "source": [
    "# Try your code here\n",
    "a=['a','b ','c ','d']\n",
    "b=[1, 2, 3, 4]\n",
    "print(list(zip(a, b)))"
   ]
  },
  {
   "cell_type": "markdown",
   "metadata": {},
   "source": [
    "### 回答1：（双击在下面回答问题）\n",
    "[('a',1), ('b',2), ('c',3), ('d',4)]"
   ]
  },
  {
   "cell_type": "markdown",
   "metadata": {},
   "source": [
    "### 问题2：\n",
    "如果c=[('a',1), ('b',2), ('c',3), ('d',4)]，那么如何用zip函数将其拆分？"
   ]
  },
  {
   "cell_type": "code",
   "execution_count": 5,
   "metadata": {},
   "outputs": [
    {
     "name": "stdout",
     "output_type": "stream",
     "text": [
      "[('a', 1), ('b', 2), ('c', 3), ('d', 4)]\n",
      "('a', 'b', 'c', 'd')\n",
      "(1, 2, 3, 4)\n"
     ]
    }
   ],
   "source": [
    "# Try your code here\n",
    "c=[('a',1), ('b',2), ('c',3), ('d',4)]\n",
    "print(c)\n",
    "keys, values = zip(*c)\n",
    "print(keys)\n",
    "print(values)"
   ]
  },
  {
   "cell_type": "markdown",
   "metadata": {},
   "source": [
    "### 回答2：（双击在下面回答问题）\n",
    "zip(*c)"
   ]
  },
  {
   "cell_type": "markdown",
   "metadata": {},
   "source": [
    "### 问题3：\n",
    "Enumerate函数会返回元组，这些元组包含列表的哪两部分？"
   ]
  },
  {
   "cell_type": "code",
   "execution_count": 6,
   "metadata": {},
   "outputs": [
    {
     "name": "stdout",
     "output_type": "stream",
     "text": [
      "i:0,value:a\n",
      "i:1,value:b\n",
      "i:2,value:c\n"
     ]
    }
   ],
   "source": [
    "# Try your code here \n",
    "L=['a','b','c']\n",
    "for i, value in enumerate(L):\n",
    "    print(\"i:{},value:{}\".format(i, value))"
   ]
  },
  {
   "cell_type": "markdown",
   "metadata": {},
   "source": [
    "### 回答3：（双击在下面回答问题）\n",
    "索引和值"
   ]
  },
  {
   "cell_type": "markdown",
   "metadata": {},
   "source": [
    "### 问题4：\n",
    "'For i in enumerate('udacity') : print(i)的结果是什么？"
   ]
  },
  {
   "cell_type": "code",
   "execution_count": 7,
   "metadata": {},
   "outputs": [
    {
     "name": "stdout",
     "output_type": "stream",
     "text": [
      "(0, 'u')\n",
      "(1, 'd')\n",
      "(2, 'a')\n",
      "(3, 'c')\n",
      "(4, 'i')\n",
      "(5, 't')\n",
      "(6, 'y')\n"
     ]
    }
   ],
   "source": [
    "# Try your code here \n",
    "\n",
    "for i in enumerate('udacity'):\n",
    "    print(i)"
   ]
  },
  {
   "cell_type": "markdown",
   "metadata": {},
   "source": [
    "### 回答4：（双击在下面回答问题）\n",
    "'(0, 'u')，(1, 'd'), (2, 'a'), (3, 'c'), (4, 'i'), (5, 't'), (6, 'y')"
   ]
  },
  {
   "cell_type": "markdown",
   "metadata": {},
   "source": [
    "### 问题5：\n",
    "a=['a','b ','c ','d']，b=[1, 2, 3, 4]，请用for循环和zip函数实现输出：['a',1], ['b',2], ['c',3]"
   ]
  },
  {
   "cell_type": "code",
   "execution_count": 9,
   "metadata": {},
   "outputs": [
    {
     "name": "stdout",
     "output_type": "stream",
     "text": [
      "['a', 1]\n",
      "['b ', 2]\n",
      "['c ', 3]\n",
      "['d', 4]\n"
     ]
    }
   ],
   "source": [
    "# Try your code here \n",
    "a=['a','b ','c ','d']\n",
    "b=[1, 2, 3, 4]\n",
    "for letter, num in zip(a, b):\n",
    "    print([letter, num])"
   ]
  },
  {
   "cell_type": "markdown",
   "metadata": {},
   "source": [
    "### 回答5：（双击在下面回答问题）\n"
   ]
  },
  {
   "cell_type": "markdown",
   "metadata": {},
   "source": [
    "### 问题6：\n",
    "a=['a','b ','c ','d']，b=[1, 2, 3, 4]，请采用dict和zip函数实现将两个列表组合成字典。\n"
   ]
  },
  {
   "cell_type": "code",
   "execution_count": 10,
   "metadata": {},
   "outputs": [
    {
     "name": "stdout",
     "output_type": "stream",
     "text": [
      "{'a': 1, 'b ': 2, 'c ': 3, 'd': 4}\n"
     ]
    }
   ],
   "source": [
    "# Try your code here \n",
    "a=['a','b ','c ','d']\n",
    "b=[1, 2, 3, 4]\n",
    "dictionary = dict(zip(a,b))\n",
    "print(dictionary)"
   ]
  },
  {
   "cell_type": "markdown",
   "metadata": {},
   "source": [
    "### 回答6：（双击在下面回答问题）\n",
    "dictionary = dict(zip(a,b))"
   ]
  },
  {
   "cell_type": "markdown",
   "metadata": {},
   "source": [
    "### 问题7：\n",
    "a=[1,2,3,4,5], b=[], for i in range(len(a)): b.append(a[i]) print(b), 请使用列表推导式修改上述代码，实现和其相同的功能。 "
   ]
  },
  {
   "cell_type": "code",
   "execution_count": 14,
   "metadata": {},
   "outputs": [
    {
     "name": "stdout",
     "output_type": "stream",
     "text": [
      "[1, 2, 3, 4, 5]\n",
      "[1, 2, 3, 4, 5]\n",
      "[1, 2, 3, 4, 5]\n"
     ]
    }
   ],
   "source": [
    "# Try your code here \n",
    "a=[1,2,3,4,5]\n",
    "b=[]\n",
    "for i in range(len(a)): \n",
    "    b.append(a[i]) \n",
    "print(b)\n",
    "\n",
    "c=[item for item in a]\n",
    "print(c)\n",
    "\n",
    "d=[a[i] for i in range(len(a))]\n",
    "print(d)"
   ]
  },
  {
   "cell_type": "markdown",
   "metadata": {},
   "source": [
    "### 回答7：（双击在下面回答问题）\n"
   ]
  },
  {
   "cell_type": "markdown",
   "metadata": {},
   "source": [
    "### 问题8：\n",
    "s = [x+2 for x in range(10) if x % 2 == 0 else x + 1], print(s)的结果是？"
   ]
  },
  {
   "cell_type": "code",
   "execution_count": 16,
   "metadata": {
    "scrolled": true
   },
   "outputs": [
    {
     "name": "stdout",
     "output_type": "stream",
     "text": [
      "[2, 2, 4, 4, 6, 6, 8, 8, 10, 10]\n"
     ]
    }
   ],
   "source": [
    "# Try your code here \n",
    "s= [x+2 if x %2 ==0 else x+1 for x in range(10)]\n",
    "#s = [x+2 for x in range(10) if x % 2 == 0 else x + 1]\n",
    "print(s)"
   ]
  },
  {
   "cell_type": "markdown",
   "metadata": {},
   "source": [
    "### 回答8：（双击在下面回答问题）\n"
   ]
  },
  {
   "cell_type": "markdown",
   "metadata": {},
   "source": [
    "### 问题9：\n",
    "s = [x+2 for x in range(10) if x % 2 == 0]，请调整代码结构，将else x+1放到合适的位置并输出s。"
   ]
  },
  {
   "cell_type": "code",
   "execution_count": 17,
   "metadata": {},
   "outputs": [
    {
     "name": "stdout",
     "output_type": "stream",
     "text": [
      "[2, 2, 4, 4, 6, 6, 8, 8, 10, 10]\n"
     ]
    }
   ],
   "source": [
    "# Try your code here \n",
    "s= [x+2 if x %2 ==0 else x+1 for x in range(10)]\n",
    "print(s)"
   ]
  },
  {
   "cell_type": "markdown",
   "metadata": {},
   "source": [
    "### 回答9：（双击在下面回答问题）\n"
   ]
  },
  {
   "cell_type": "markdown",
   "metadata": {},
   "source": [
    "### 问题10：\n",
    "names = [\"Rick Sanchez\", \"Morty Smith\", \"Summer Smith\"]，请使用split函数提取每个人的姓氏，以列表形式输出。"
   ]
  },
  {
   "cell_type": "code",
   "execution_count": 18,
   "metadata": {},
   "outputs": [
    {
     "name": "stdout",
     "output_type": "stream",
     "text": [
      "['Sanchez', 'Smith', 'Smith']\n"
     ]
    }
   ],
   "source": [
    "# Try your code here \n",
    "names = [\"Rick Sanchez\", \"Morty Smith\", \"Summer Smith\"]\n",
    "last_names=[x.split()[1] for x in names]\n",
    "print(last_names)"
   ]
  },
  {
   "cell_type": "markdown",
   "metadata": {},
   "source": [
    "### 回答10：（双击在下面回答问题）\n"
   ]
  },
  {
   "cell_type": "markdown",
   "metadata": {},
   "source": [
    "### 问题11：\n",
    "elements = {\"hydrogen\": 1, \"helium\": 2, \"carbon\": 6}，请根据元素在周期表中的位置输出相应元素，输出位置大于4的元素。"
   ]
  },
  {
   "cell_type": "code",
   "execution_count": 19,
   "metadata": {},
   "outputs": [
    {
     "name": "stdout",
     "output_type": "stream",
     "text": [
      "['carbon']\n"
     ]
    }
   ],
   "source": [
    "# Try your code here \n",
    "elements = {\"hydrogen\": 1, \"helium\": 2, \"carbon\": 6}\n",
    "e=[element for element,loc in elements.items() if loc>4]\n",
    "print(e)"
   ]
  },
  {
   "cell_type": "markdown",
   "metadata": {},
   "source": [
    "### 回答11：（双击在下面回答问题）\n"
   ]
  },
  {
   "cell_type": "markdown",
   "metadata": {},
   "source": [
    "### 问题12：\n",
    "vowels=\"aeiou\", sentence=\"I am a student\" ,nonvowels=' '.join([ l for l in sentence if not l in vowels]) , 该列表推导式的作用是什么？"
   ]
  },
  {
   "cell_type": "code",
   "execution_count": 20,
   "metadata": {},
   "outputs": [
    {
     "name": "stdout",
     "output_type": "stream",
     "text": [
      "I   m     s t d n t\n"
     ]
    }
   ],
   "source": [
    "# Try your code here \n",
    "vowels=\"aeiou\"\n",
    "sentence=\"I am a student\" \n",
    "nonvowels=' '.join([ l for l in sentence if not l in vowels])\n",
    "print(nonvowels)"
   ]
  },
  {
   "cell_type": "markdown",
   "metadata": {},
   "source": [
    "### 回答12：（双击在下面回答问题）\n",
    "去除sentence中的元音字母"
   ]
  },
  {
   "cell_type": "markdown",
   "metadata": {},
   "source": [
    "### 问题13：\n",
    "'请使用列表推导式，找到100以内可以整除3的数字。"
   ]
  },
  {
   "cell_type": "code",
   "execution_count": 21,
   "metadata": {},
   "outputs": [
    {
     "name": "stdout",
     "output_type": "stream",
     "text": [
      "[0, 3, 6, 9, 12, 15, 18, 21, 24, 27, 30, 33, 36, 39, 42, 45, 48, 51, 54, 57, 60, 63, 66, 69, 72, 75, 78, 81, 84, 87, 90, 93, 96, 99]\n"
     ]
    }
   ],
   "source": [
    "# Try your code here \n",
    "numbers=[x for x in range(100) if x%3==0]\n",
    "print(numbers)"
   ]
  },
  {
   "cell_type": "markdown",
   "metadata": {},
   "source": [
    "### 回答13：（双击在下面回答问题）\n"
   ]
  },
  {
   "cell_type": "markdown",
   "metadata": {},
   "source": [
    "### 问题14：\n",
    "Enumerate函数默认起始的索引值为0，如果想要制定起始索引，应该怎么做？"
   ]
  },
  {
   "cell_type": "code",
   "execution_count": 22,
   "metadata": {},
   "outputs": [
    {
     "name": "stdout",
     "output_type": "stream",
     "text": [
      "i:1,value:0\n",
      "i:2,value:1\n",
      "i:3,value:2\n",
      "i:4,value:3\n",
      "i:5,value:4\n"
     ]
    }
   ],
   "source": [
    "# Try your code here \n",
    "L=[0,1,2,3,4]\n",
    "for i,value in enumerate(L, 1):\n",
    "    print(\"i:{},value:{}\".format(i,value))"
   ]
  },
  {
   "cell_type": "markdown",
   "metadata": {},
   "source": [
    "### 回答14：（双击在下面回答问题）\n",
    "制定enumerate的第二个参数，如enumerate(list,1)，索引从1开始"
   ]
  },
  {
   "cell_type": "markdown",
   "metadata": {},
   "source": [
    "### 问题15：\n",
    "enumerate和zip返回的对象类型分别是什么？"
   ]
  },
  {
   "cell_type": "code",
   "execution_count": 25,
   "metadata": {},
   "outputs": [
    {
     "name": "stdout",
     "output_type": "stream",
     "text": [
      "<class 'tuple'>\n",
      "<class 'tuple'>\n"
     ]
    }
   ],
   "source": [
    "# Try your code here \n",
    "a=['a','b','c']\n",
    "b=[1,2,3]\n",
    "c=list(enumerate(a))\n",
    "d=list(zip(a,b))\n",
    "print(type(c[0]))\n",
    "print(type(d[0]))"
   ]
  },
  {
   "cell_type": "markdown",
   "metadata": {},
   "source": [
    "### 回答15：（双击在下面回答问题）\n",
    "均是元组类型"
   ]
  }
 ],
 "metadata": {
  "kernelspec": {
   "display_name": "Python 3",
   "language": "python",
   "name": "python3"
  },
  "language_info": {
   "codemirror_mode": {
    "name": "ipython",
    "version": 3
   },
   "file_extension": ".py",
   "mimetype": "text/x-python",
   "name": "python",
   "nbconvert_exporter": "python",
   "pygments_lexer": "ipython3",
   "version": "3.6.4"
  }
 },
 "nbformat": 4,
 "nbformat_minor": 2
}
