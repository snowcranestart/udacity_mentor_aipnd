{
 "cells": [
  {
   "cell_type": "markdown",
   "metadata": {},
   "source": [
    "# 每日一问：第二天"
   ]
  },
  {
   "cell_type": "markdown",
   "metadata": {},
   "source": [
    "### 任务\n",
    "\n",
    "- 了解容器类数据类型，列表，字典，元组，集合的特点以及它们的区别。\n",
    "- 练习使用jupyter notebook基本命令:\n",
    "    - 切换到命令模式：**Esc**\n",
    "    - 在区域前插入Cell: **A** \n",
    "    - 在区域后插入Cell: **B**\n",
    "    - 切换成Markdown模式： **M**\n",
    "    - Markdown双击开始编辑    \n",
    "    - Code和Markdown区域运行：**Shift + Enter**\n",
    "    - 更多用法你可以参考课程内容，也可以查阅 jupyter notebook [帮助文档](https://jupyter.org/documentation)\n",
    "- 在练习的过程中，如果你遇到问题，你可以回顾课程内容，也可以查阅 [Python官方文档](https://docs.python.org/3/)\n",
    "- 请每位同学选择下面与自己学号对应的问题练习， 学有余力的同学也可以完成所有练习。"
   ]
  },
  {
   "cell_type": "markdown",
   "metadata": {},
   "source": [
    "### 问题1：\n",
    "什么叫可变对象？什么叫不可变对象？Python中哪些对象是可变的？哪些是不可变的？  "
   ]
  },
  {
   "cell_type": "code",
   "execution_count": 23,
   "metadata": {},
   "outputs": [],
   "source": [
    "# Try your code here\n"
   ]
  },
  {
   "cell_type": "markdown",
   "metadata": {},
   "source": [
    "### 回答1：（双击在下面回答问题）\n",
    "\n",
    "可变对象可以对其进行插入，删除等操作，不可变对象不可以对其进行有改变的操作。Python中列表，字典，集合等都是可变的，元组，字符串，整型等都是不可变的。"
   ]
  },
  {
   "cell_type": "markdown",
   "metadata": {},
   "source": [
    "### 问题2：\n",
    "列表索引是从下标几开始？给定列表L=[1,2,3,4,5],print(L[0:3])的输出结果是什么？"
   ]
  },
  {
   "cell_type": "code",
   "execution_count": 24,
   "metadata": {},
   "outputs": [
    {
     "name": "stdout",
     "output_type": "stream",
     "text": [
      "[1, 2, 3]\n"
     ]
    }
   ],
   "source": [
    "# Try your code here\n",
    "L = [1,2,3,4,5]\n",
    "print(L[0:3])\n"
   ]
  },
  {
   "cell_type": "markdown",
   "metadata": {},
   "source": [
    "### 回答2：（双击在下面回答问题）\n",
    "下标从0开始，print(L[0:3])输出[1,2,3]。切片下标左闭右开。"
   ]
  },
  {
   "cell_type": "markdown",
   "metadata": {},
   "source": [
    "### 问题3：\n",
    "L=[1,2,3,4,5]，print(L[5])的结果是什么？为什么？如果要取出最后一个元素，应该如何输出？"
   ]
  },
  {
   "cell_type": "code",
   "execution_count": 25,
   "metadata": {},
   "outputs": [
    {
     "name": "stdout",
     "output_type": "stream",
     "text": [
      "5\n"
     ]
    }
   ],
   "source": [
    "# Try your code here \n",
    "L = [1,2,3,4,5]\n",
    "print(L[4])"
   ]
  },
  {
   "cell_type": "markdown",
   "metadata": {},
   "source": [
    "### 回答3：（双击在下面回答问题）\n",
    "结果会报错，因为列表下标是0~length-1，L(5）会造成下标越界，可以有两种方法输出最后一个元素：print(L(4))或者print(L[-1])。"
   ]
  },
  {
   "cell_type": "markdown",
   "metadata": {},
   "source": [
    "### 问题4：\n",
    "sentence1 = \"I wish to register a complaint.\"请分别写出sentence1[30]和sentence1[-11]的结果"
   ]
  },
  {
   "cell_type": "code",
   "execution_count": 26,
   "metadata": {},
   "outputs": [
    {
     "name": "stdout",
     "output_type": "stream",
     "text": [
      ".\n",
      " \n"
     ]
    }
   ],
   "source": [
    "# Try your code here \n",
    "sentence1 = \"I wish to register a complaint.\"\n",
    "print(sentence1[30])\n",
    "print(sentence1[-11])"
   ]
  },
  {
   "cell_type": "markdown",
   "metadata": {},
   "source": [
    "### 回答4：（双击在下面回答问题）\n",
    "'sentence1[30]='.', sentence1[-11]=' '。"
   ]
  },
  {
   "cell_type": "markdown",
   "metadata": {},
   "source": [
    "### 问题5：\n",
    "sentence1 = [\"I\", \"wish\", \"to\", \"register\", \"a\", \"complaint\", \".\"]请分别取出[\"I\",\"wish\"]和[\"complaint\",\".\"]。"
   ]
  },
  {
   "cell_type": "code",
   "execution_count": 27,
   "metadata": {},
   "outputs": [
    {
     "name": "stdout",
     "output_type": "stream",
     "text": [
      "['I', 'wish']\n",
      "['complaint', '.']\n"
     ]
    }
   ],
   "source": [
    "# Try your code here \n",
    "sentence1 = [\"I\", \"wish\", \"to\", \"register\", \"a\", \"complaint\", \".\"]\n",
    "print(sentence1[0:2])\n",
    "print(sentence1[-2:])\n"
   ]
  },
  {
   "cell_type": "markdown",
   "metadata": {},
   "source": [
    "### 回答5：（双击在下面回答问题）\n",
    "sentence1[0:2], sentence1[-2:]"
   ]
  },
  {
   "cell_type": "markdown",
   "metadata": {},
   "source": [
    "### 问题6：\n",
    "L=[\"former\", \"latter\", \"starboard\"]，请完成：为L在末端添加一个元素“port”。\n"
   ]
  },
  {
   "cell_type": "code",
   "execution_count": 28,
   "metadata": {},
   "outputs": [
    {
     "name": "stdout",
     "output_type": "stream",
     "text": [
      "['former', 'latter', 'starboard', 'port']\n"
     ]
    }
   ],
   "source": [
    "# Try your code here \n",
    "L=[\"former\", \"latter\", \"starboard\"]\n",
    "L.append(\"port\")\n",
    "print(L)"
   ]
  },
  {
   "cell_type": "markdown",
   "metadata": {},
   "source": [
    "### 回答6：（双击在下面回答问题）\n",
    "L.append(\"port\")"
   ]
  },
  {
   "cell_type": "markdown",
   "metadata": {},
   "source": [
    "### 问题7：\n",
    "L1=[1,2,3,4,5], L2=[\"star\",\"moon\"], L3=[1,2,\"star\"]，运用max函数，输出最长的列表。"
   ]
  },
  {
   "cell_type": "code",
   "execution_count": 29,
   "metadata": {},
   "outputs": [
    {
     "name": "stdout",
     "output_type": "stream",
     "text": [
      "5\n"
     ]
    }
   ],
   "source": [
    "# Try your code here \n",
    "L1=[1,2,3,4,5]\n",
    "L2=[\"star\",\"moon\"]\n",
    "L3=[1,2,\"star\"]\n",
    "max_len = max(len(L1), len(L2), len(L3))\n",
    "print(max_len)"
   ]
  },
  {
   "cell_type": "markdown",
   "metadata": {},
   "source": [
    "### 回答7：（双击在下面回答问题）\n",
    "max_len=max(len(L1), len(L2), len(L3))"
   ]
  },
  {
   "cell_type": "markdown",
   "metadata": {},
   "source": [
    "### 问题8：\n",
    "L=[\"Car\",\"Carl\",\"Care\",\"Coco\",\"Bar\"]，执行sorted(L)进行排序，试着总结sorted按什么规则对列表中字符串进行排序？"
   ]
  },
  {
   "cell_type": "code",
   "execution_count": 30,
   "metadata": {},
   "outputs": [
    {
     "name": "stdout",
     "output_type": "stream",
     "text": [
      "['Bar', 'Car', 'Care', 'Carl', 'Coco']\n"
     ]
    }
   ],
   "source": [
    "# Try your code here \n",
    "L=[\"Car\",\"Carl\",\"Care\",\"Coco\",\"Bar\"]\n",
    "print(sorted(L))"
   ]
  },
  {
   "cell_type": "markdown",
   "metadata": {},
   "source": [
    "### 回答8：（双击在下面回答问题）\n",
    "先比较首字母，首字母相同再比较第二个，以此类推。"
   ]
  },
  {
   "cell_type": "markdown",
   "metadata": {},
   "source": [
    "### 问题9：\n",
    "a=（2,3），试着用append方法将1添加进a的末端，可以成功运行么？如果令a=[2,3]或者a=\"2,3\"，能成功运行么？请分别解释原因。"
   ]
  },
  {
   "cell_type": "code",
   "execution_count": 31,
   "metadata": {},
   "outputs": [
    {
     "name": "stdout",
     "output_type": "stream",
     "text": [
      "[2, 3, 1]\n"
     ]
    }
   ],
   "source": [
    "# Try your code here \n",
    "a = [2,3]\n",
    "a.append(1)\n",
    "print(a)"
   ]
  },
  {
   "cell_type": "markdown",
   "metadata": {},
   "source": [
    "### 回答9：（双击在下面回答问题）\n",
    "不可以，a是元组类型不可变，如果a是列表类型，可以加入新元素，字符串不可变，同样不能。"
   ]
  },
  {
   "cell_type": "markdown",
   "metadata": {},
   "source": [
    "### 问题10：\n",
    "设一个立方体的length, width, height = 40, 40, 40，请写一条输出语句输出立方体的体积。（要求输出形式为：The volume is  .）"
   ]
  },
  {
   "cell_type": "code",
   "execution_count": 32,
   "metadata": {},
   "outputs": [
    {
     "name": "stdout",
     "output_type": "stream",
     "text": [
      "The volume is 64000\n"
     ]
    }
   ],
   "source": [
    "# Try your code here \n",
    "length, width, height = (40, 40, 40)\n",
    "print(\"The volume is {}\".format(length*width*height))"
   ]
  },
  {
   "cell_type": "markdown",
   "metadata": {},
   "source": [
    "### 回答10：（双击在下面回答问题）\n",
    "print( \"The volume is {}\".format(length*width*height))"
   ]
  },
  {
   "cell_type": "markdown",
   "metadata": {},
   "source": [
    "### 问题11：\n",
    "a=（2,3,1,4,5）,b=2,3,1,4,5, a和b表达的含义相同么？请输出a中的第一个元素，b中最后一个元素，以及b的长度。"
   ]
  },
  {
   "cell_type": "code",
   "execution_count": 33,
   "metadata": {},
   "outputs": [
    {
     "name": "stdout",
     "output_type": "stream",
     "text": [
      "2\n",
      "5\n",
      "5\n"
     ]
    }
   ],
   "source": [
    "# Try your code here \n",
    "a= (2,3,1,4,5)\n",
    "b= 2,3,1,4,5\n",
    "print(a[0])\n",
    "print(b[-1])\n",
    "print(len(b))"
   ]
  },
  {
   "cell_type": "markdown",
   "metadata": {},
   "source": [
    "### 回答11：（双击在下面回答问题）\n",
    "a是元组\n",
    "b是列表\n",
    "print( a[0], b[-1], len(b))"
   ]
  },
  {
   "cell_type": "markdown",
   "metadata": {},
   "source": [
    "### 问题12：\n",
    "L=[1,2,3,4,1,4,5,6],请完成：①删除列表中的重复元素并输出一个集合；②将7随机添加到集合中；③随机从集合中删除一个元素。"
   ]
  },
  {
   "cell_type": "code",
   "execution_count": 34,
   "metadata": {},
   "outputs": [
    {
     "name": "stdout",
     "output_type": "stream",
     "text": [
      "{1, 2, 3, 4, 5, 6}\n",
      "{1, 2, 3, 4, 5, 6, 7}\n",
      "{2, 3, 4, 5, 6, 7}\n",
      "1\n"
     ]
    }
   ],
   "source": [
    "# Try your code here \n",
    "L=[1,2,3,4,1,4,5,6]\n",
    "\n",
    "S = set(L)\n",
    "print(S)\n",
    "\n",
    "S.add(7)\n",
    "print(S)\n",
    "\n",
    "a= S.pop()\n",
    "print(S)\n",
    "print(a)\n"
   ]
  },
  {
   "cell_type": "markdown",
   "metadata": {},
   "source": [
    "### 回答12：（双击在下面回答问题）\n",
    "①S=set(L); ②S.add(7)③S.pop()"
   ]
  },
  {
   "cell_type": "markdown",
   "metadata": {},
   "source": [
    "### 问题13：\n",
    "'字典elements = {\"hydrogen\": 1, \"helium\": 2, \"carbon\": 6}中，哪些是键？哪些是值？键的类型可以有哪些？请输出“carbon”对应的值。"
   ]
  },
  {
   "cell_type": "code",
   "execution_count": 35,
   "metadata": {},
   "outputs": [
    {
     "name": "stdout",
     "output_type": "stream",
     "text": [
      "6\n"
     ]
    }
   ],
   "source": [
    "# Try your code here \n",
    "elements = {\"hydrogen\": 1, \"helium\": 2, \"carbon\": 6}\n",
    "print(elements['carbon'])"
   ]
  },
  {
   "cell_type": "markdown",
   "metadata": {},
   "source": [
    "### 回答13：（双击在下面回答问题）\n",
    "\"hydrogen\"等是键，1,2,6是值，键可以为任何不可变类型，print(elements[\"carbon\"])"
   ]
  },
  {
   "cell_type": "markdown",
   "metadata": {},
   "source": [
    "### 问题14：\n",
    "cube：length：40，width：40，height：40。请创建一个字典，包括cube的所有信息，并输出cube的width值。"
   ]
  },
  {
   "cell_type": "code",
   "execution_count": 36,
   "metadata": {},
   "outputs": [
    {
     "name": "stdout",
     "output_type": "stream",
     "text": [
      "{'length': 40, 'width': 40, 'height': 40}\n",
      "40\n"
     ]
    }
   ],
   "source": [
    "# Try your code here \n",
    "cube={\"length\":40, \"width\":40, \"height\":40}\n",
    "print(cube)\n",
    "print(cube['width'])"
   ]
  },
  {
   "cell_type": "markdown",
   "metadata": {},
   "source": [
    "### 回答14：（双击在下面回答问题）\n",
    "cube={\"length\":40, \"width\":40, \"height\":40},  print(cube[\"width\"])"
   ]
  },
  {
   "cell_type": "markdown",
   "metadata": {},
   "source": [
    "### 问题15：\n",
    "cube：length：40，width：40，height：40, 请创建一个字典，包括cube的所有信息，并向字典中添加条目“color”和对应值\"red\"。"
   ]
  },
  {
   "cell_type": "code",
   "execution_count": 37,
   "metadata": {},
   "outputs": [
    {
     "name": "stdout",
     "output_type": "stream",
     "text": [
      "{'length': 40, 'width': 40, 'height': 40}\n",
      "{'length': 40, 'width': 40, 'height': 40, 'color': 'red'}\n"
     ]
    }
   ],
   "source": [
    "# Try your code here \n",
    "cube={\"length\":40, \"width\":40, \"height\":40}\n",
    "print(cube)\n",
    "\n",
    "cube['color'] = \"red\"\n",
    "print(cube)"
   ]
  },
  {
   "cell_type": "markdown",
   "metadata": {},
   "source": [
    "### 回答15：（双击在下面回答问题）\n",
    "cube={\"length\":40, \"width\":40, \"height\":40}, cube[\"color\"]=\"red\""
   ]
  }
 ],
 "metadata": {
  "kernelspec": {
   "display_name": "Python 3",
   "language": "python",
   "name": "python3"
  },
  "language_info": {
   "codemirror_mode": {
    "name": "ipython",
    "version": 3
   },
   "file_extension": ".py",
   "mimetype": "text/x-python",
   "name": "python",
   "nbconvert_exporter": "python",
   "pygments_lexer": "ipython3",
   "version": "3.6.4"
  }
 },
 "nbformat": 4,
 "nbformat_minor": 2
}
