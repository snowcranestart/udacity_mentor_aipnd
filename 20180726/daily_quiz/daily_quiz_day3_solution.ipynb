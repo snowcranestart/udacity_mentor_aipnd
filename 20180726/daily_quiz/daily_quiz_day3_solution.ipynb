{
 "cells": [
  {
   "cell_type": "markdown",
   "metadata": {},
   "source": [
    "# 每日一问：第三天"
   ]
  },
  {
   "cell_type": "markdown",
   "metadata": {},
   "source": [
    "### 任务\n",
    "\n",
    "- 学习控制流，了解选择和循环语句的特点和区别。\n",
    "- 练习使用jupyter notebook基本命令\n",
    "    - 切换到命令模式：**Esc**\n",
    "    - 在区域前插入Cell: **A** \n",
    "    - 在区域后插入Cell: **B**\n",
    "    - 切换成Markdown模式： **M**\n",
    "    - Markdown双击开始编辑    \n",
    "    - Code和Markdown区域运行：**Shift + Enter**\n",
    "    - 更多用法你可以参考课程内容，也可以查阅 jupyter notebook [帮助文档](https://jupyter.org/documentation)\n",
    "- 在练习的过程中，如果你遇到问题，你可以回顾课程内容，也可以查阅 [Python官方文档](https://docs.python.org/3/)\n",
    "- 请每位同学选择下面与自己学号对应的问题练习， 学有余力的同学也可以完成所有练习"
   ]
  },
  {
   "cell_type": "markdown",
   "metadata": {},
   "source": [
    "### 问题1：\n",
    "if-else语句执行的流程是怎样的？"
   ]
  },
  {
   "cell_type": "code",
   "execution_count": 29,
   "metadata": {},
   "outputs": [
    {
     "name": "stdout",
     "output_type": "stream",
     "text": [
      "not equal\n"
     ]
    }
   ],
   "source": [
    "# Try your code here\n",
    "\n",
    "a = 2\n",
    "b = 3\n",
    "if a == b:\n",
    "    print(\"equal\")\n",
    "else:\n",
    "    print(\"not equal\")"
   ]
  },
  {
   "cell_type": "markdown",
   "metadata": {},
   "source": [
    "### 回答1：（双击在下面回答问题）\n",
    "先判断if中的条件，若满足条件，则执行if中的语句；若不满足条件，则执行else中的语句。"
   ]
  },
  {
   "cell_type": "markdown",
   "metadata": {},
   "source": [
    "### 问题2：\n",
    "if（x>3）: print \"True\" else: print \"False\",若x=2，则该段代码的执行结果是？"
   ]
  },
  {
   "cell_type": "code",
   "execution_count": 30,
   "metadata": {},
   "outputs": [
    {
     "name": "stdout",
     "output_type": "stream",
     "text": [
      "False\n"
     ]
    }
   ],
   "source": [
    "# Try your code here\n",
    "x = 2\n",
    "if (x>3):\n",
    "    print(\"True\")\n",
    "else:\n",
    "    print(\"False\")"
   ]
  },
  {
   "cell_type": "markdown",
   "metadata": {},
   "source": [
    "### 回答2：（双击在下面回答问题）\n",
    "FALSE"
   ]
  },
  {
   "cell_type": "markdown",
   "metadata": {},
   "source": [
    "### 问题3：\n",
    "if（x>5）: print \"True\" elif x>0 and x<5 print \"False\" else: print \"Error\",若是想要输出“False”，则x可以取哪些整数？"
   ]
  },
  {
   "cell_type": "code",
   "execution_count": 31,
   "metadata": {},
   "outputs": [
    {
     "name": "stdout",
     "output_type": "stream",
     "text": [
      "False\n"
     ]
    }
   ],
   "source": [
    "# Try your code here \n",
    "x=3\n",
    "if (x>5):\n",
    "    print(\"True\")\n",
    "elif (x>0 and x<5):\n",
    "    print(\"False\")\n",
    "else:\n",
    "    print(\"Error\")"
   ]
  },
  {
   "cell_type": "markdown",
   "metadata": {},
   "source": [
    "### 回答3：（双击在下面回答问题）\n",
    "1,2,3,4"
   ]
  },
  {
   "cell_type": "markdown",
   "metadata": {},
   "source": [
    "### 问题4：\n",
    "'x=0，if x：print “False”else：print “True”，该段代码的输出结果是？"
   ]
  },
  {
   "cell_type": "code",
   "execution_count": 32,
   "metadata": {},
   "outputs": [
    {
     "name": "stdout",
     "output_type": "stream",
     "text": [
      "True\n"
     ]
    }
   ],
   "source": [
    "# Try your code here \n",
    "x = 0\n",
    "if x:\n",
    "    print(\"False\")\n",
    "else:\n",
    "    print(\"True\")    "
   ]
  },
  {
   "cell_type": "markdown",
   "metadata": {},
   "source": [
    "### 回答4：（双击在下面回答问题）\n",
    "True"
   ]
  },
  {
   "cell_type": "markdown",
   "metadata": {},
   "source": [
    "### 问题5：\n",
    "x=0，y=1, if x and y：print “False”elif x or y：print “True”，该段代码的输出结果是？"
   ]
  },
  {
   "cell_type": "code",
   "execution_count": 33,
   "metadata": {},
   "outputs": [
    {
     "name": "stdout",
     "output_type": "stream",
     "text": [
      "True\n"
     ]
    }
   ],
   "source": [
    "# Try your code here \n",
    "x=0\n",
    "y=1\n",
    "if (x and y):\n",
    "    print(\"False\")\n",
    "elif (x or y):\n",
    "    print(\"True\")"
   ]
  },
  {
   "cell_type": "markdown",
   "metadata": {},
   "source": [
    "### 回答5：（双击在下面回答问题）\n",
    "True"
   ]
  },
  {
   "cell_type": "markdown",
   "metadata": {},
   "source": [
    "### 问题6：\n",
    "x=0, if not x: print \"True\" else: print \"False\",该段代码的输出结果是？\n"
   ]
  },
  {
   "cell_type": "code",
   "execution_count": 34,
   "metadata": {},
   "outputs": [
    {
     "name": "stdout",
     "output_type": "stream",
     "text": [
      "True\n"
     ]
    }
   ],
   "source": [
    "# Try your code here \n",
    "x=0\n",
    "if (not x):\n",
    "    print(\"True\")\n",
    "else:\n",
    "    print(\"False\")"
   ]
  },
  {
   "cell_type": "markdown",
   "metadata": {},
   "source": [
    "### 回答6：（双击在下面回答问题）\n",
    "True"
   ]
  },
  {
   "cell_type": "markdown",
   "metadata": {},
   "source": [
    "### 问题7：\n",
    "x=None，y=1，z=3，if not（x and y or z）: print \"False\" else: print \"True\",该段代码的输出结果为？"
   ]
  },
  {
   "cell_type": "code",
   "execution_count": 1,
   "metadata": {},
   "outputs": [
    {
     "name": "stdout",
     "output_type": "stream",
     "text": [
      "True\n"
     ]
    }
   ],
   "source": [
    "# Try your code here \n",
    "x=None\n",
    "y=1\n",
    "z=3\n",
    "\n",
    "if not(x and y or z):\n",
    "    print(\"False\")\n",
    "else:\n",
    "    print(\"True\")"
   ]
  },
  {
   "cell_type": "markdown",
   "metadata": {},
   "source": [
    "### 回答7：（双击在下面回答问题）\n",
    "True"
   ]
  },
  {
   "cell_type": "markdown",
   "metadata": {},
   "source": [
    "### 问题8：\n",
    "cities = ['Beijing', 'Shanghai', 'Shenzhen', 'Guangzhou']，请使用for语句遍历cities，输出cities中的元素。"
   ]
  },
  {
   "cell_type": "code",
   "execution_count": 36,
   "metadata": {
    "scrolled": true
   },
   "outputs": [
    {
     "name": "stdout",
     "output_type": "stream",
     "text": [
      "Beijing\n",
      "Shanghai\n",
      "Shenzhen\n",
      "Guangzhou\n"
     ]
    }
   ],
   "source": [
    "# Try your code here \n",
    "cities = ['Beijing', 'Shanghai', 'Shenzhen', 'Guangzhou']\n",
    "\n",
    "for city in cities:\n",
    "    print(city)\n"
   ]
  },
  {
   "cell_type": "markdown",
   "metadata": {},
   "source": [
    "### 回答8：（双击在下面回答问题）\n"
   ]
  },
  {
   "cell_type": "markdown",
   "metadata": {},
   "source": [
    "### 问题9：\n",
    "print(list(range(1,12,3)))的结果是？"
   ]
  },
  {
   "cell_type": "code",
   "execution_count": 37,
   "metadata": {},
   "outputs": [
    {
     "name": "stdout",
     "output_type": "stream",
     "text": [
      "[1, 4, 7, 10]\n"
     ]
    }
   ],
   "source": [
    "# Try your code here \n",
    "print(list(range(1,12,3)))"
   ]
  },
  {
   "cell_type": "markdown",
   "metadata": {},
   "source": [
    "### 回答9：（双击在下面回答问题）\n"
   ]
  },
  {
   "cell_type": "markdown",
   "metadata": {},
   "source": [
    "### 问题10：\n",
    "L=[1,2,3,4,5], list[range(len(L))]的结果是？"
   ]
  },
  {
   "cell_type": "code",
   "execution_count": 38,
   "metadata": {},
   "outputs": [
    {
     "name": "stdout",
     "output_type": "stream",
     "text": [
      "[0, 1, 2, 3, 4]\n"
     ]
    }
   ],
   "source": [
    "# Try your code here \n",
    "L=[1,2,3,4,5]\n",
    "L2=list(range(len(L)))\n",
    "print(L2)"
   ]
  },
  {
   "cell_type": "markdown",
   "metadata": {},
   "source": [
    "### 回答10：（双击在下面回答问题）\n"
   ]
  },
  {
   "cell_type": "markdown",
   "metadata": {},
   "source": [
    "### 问题11：\n",
    "cities = ['Beijing', 'Shanghai', 'Shenzhen', 'Guangzhou']，for i in range(len(cities)-1): print(cities[i])的输出结果是？ "
   ]
  },
  {
   "cell_type": "code",
   "execution_count": 39,
   "metadata": {},
   "outputs": [
    {
     "name": "stdout",
     "output_type": "stream",
     "text": [
      "Beijing\n",
      "Shanghai\n",
      "Shenzhen\n"
     ]
    }
   ],
   "source": [
    "# Try your code here \n",
    "cities = ['Beijing', 'Shanghai', 'Shenzhen', 'Guangzhou']\n",
    "for i in range(len(cities)-1): \n",
    "    print(cities[i])"
   ]
  },
  {
   "cell_type": "markdown",
   "metadata": {},
   "source": [
    "### 回答11：（双击在下面回答问题）\n"
   ]
  },
  {
   "cell_type": "markdown",
   "metadata": {},
   "source": [
    "### 问题12：\n",
    "cities = ['Beijing', 'Shanghai', 'Shenzhen', 'Guangzhou']，city=[], for i in range(len(cities)): city.__________ ,请在空白处填写合适的代码，利用cities中的元素创建一个city列表。"
   ]
  },
  {
   "cell_type": "code",
   "execution_count": 40,
   "metadata": {},
   "outputs": [
    {
     "name": "stdout",
     "output_type": "stream",
     "text": [
      "['Beijing', 'Shanghai', 'Shenzhen', 'Guangzhou']\n"
     ]
    }
   ],
   "source": [
    "# Try your code here \n",
    "cities = ['Beijing', 'Shanghai', 'Shenzhen', 'Guangzhou']\n",
    "city=[]\n",
    "for i in range(len(cities)): \n",
    "    city.append(cities[i])\n",
    "print(city)"
   ]
  },
  {
   "cell_type": "markdown",
   "metadata": {},
   "source": [
    "### 回答12：（双击在下面回答问题）\n",
    "append(cities[i])"
   ]
  },
  {
   "cell_type": "markdown",
   "metadata": {},
   "source": [
    "### 问题13：\n",
    "'while语句执行的流程是怎样的？"
   ]
  },
  {
   "cell_type": "code",
   "execution_count": 41,
   "metadata": {},
   "outputs": [],
   "source": [
    "# Try your code here \n"
   ]
  },
  {
   "cell_type": "markdown",
   "metadata": {},
   "source": [
    "### 回答13：（双击在下面回答问题）\n",
    "当满足while中的判定条件时，执行while中的语句，每执行完一次，重新判定是否满足条件，满足继续执行，不满足则退出while。"
   ]
  },
  {
   "cell_type": "markdown",
   "metadata": {},
   "source": [
    "### 问题14：\n",
    "error =0，① while error：print“hello”②while (not 1): print \"hello\",两个代码块的执行结果分别是什么？为什么产生这种结果？"
   ]
  },
  {
   "cell_type": "code",
   "execution_count": 42,
   "metadata": {},
   "outputs": [],
   "source": [
    "# Try your code here \n",
    "error=0\n",
    "while error:\n",
    "    print(\"hello1\")\n",
    "\n",
    "while (not 1):\n",
    "    print(\"hello2\")"
   ]
  },
  {
   "cell_type": "markdown",
   "metadata": {},
   "source": [
    "### 回答14：（双击在下面回答问题）\n",
    "①的结果是没有输出，直接跳出循环，是因为error=0，条件为假，不执行while中的语句；②的结果是没有输出，直接跳出循环，因为not 1的值为0，即条件永远为假，不执行while中的语句"
   ]
  },
  {
   "cell_type": "markdown",
   "metadata": {},
   "source": [
    "### 问题15：\n",
    "x=[3,1,6,5,19,2,4], y=[], i=0, while(x[i]<10): y.append(x[i])      print(y), i +=1, y的最终输出结果是？"
   ]
  },
  {
   "cell_type": "code",
   "execution_count": 43,
   "metadata": {},
   "outputs": [
    {
     "name": "stdout",
     "output_type": "stream",
     "text": [
      "[3]\n",
      "[3, 1]\n",
      "[3, 1, 6]\n",
      "[3, 1, 6, 5]\n"
     ]
    }
   ],
   "source": [
    "# Try your code here \n",
    "x=[3,1,6,5,19,2,4]\n",
    "y=[]\n",
    "i=0\n",
    "while(x[i]<10): \n",
    "    y.append(x[i])      \n",
    "    print(y)\n",
    "    i +=1"
   ]
  },
  {
   "cell_type": "markdown",
   "metadata": {},
   "source": [
    "### 回答15：（双击在下面回答问题）\n"
   ]
  }
 ],
 "metadata": {
  "kernelspec": {
   "display_name": "Python 3",
   "language": "python",
   "name": "python3"
  },
  "language_info": {
   "codemirror_mode": {
    "name": "ipython",
    "version": 3
   },
   "file_extension": ".py",
   "mimetype": "text/x-python",
   "name": "python",
   "nbconvert_exporter": "python",
   "pygments_lexer": "ipython3",
   "version": "3.6.4"
  }
 },
 "nbformat": 4,
 "nbformat_minor": 2
}
