{
 "cells": [
  {
   "cell_type": "markdown",
   "metadata": {},
   "source": [
    "# 每日一问：第六天"
   ]
  },
  {
   "cell_type": "markdown",
   "metadata": {},
   "source": [
    "### 任务\n",
    "\n",
    "- 了为完成项目做准备。\n",
    "- 练习使用jupyter notebook基本命令\n",
    "    - 切换到命令模式：**Esc**\n",
    "    - 在区域前插入Cell: **A** \n",
    "    - 在区域后插入Cell: **B**\n",
    "    - 切换成Markdown模式： **M**\n",
    "    - Markdown双击开始编辑    \n",
    "    - Code和Markdown区域运行：**Shift + Enter**\n",
    "    - 更多用法你可以参考课程内容，也可以查阅 jupyter notebook [帮助文档](https://jupyter.org/documentation)\n",
    "- 在练习的过程中，如果你遇到问题，你可以回顾课程内容，也可以查阅 [Python官方文档](https://docs.python.org/3/)。\n",
    "- 请每位同学选择一题练习， 学有余力的同学也可以完成所有练习。"
   ]
  },
  {
   "cell_type": "markdown",
   "metadata": {},
   "source": [
    "### 问题1：\n",
    "python中import模块有什么作用？"
   ]
  },
  {
   "cell_type": "code",
   "execution_count": 1,
   "metadata": {},
   "outputs": [],
   "source": [
    "# Try your code here"
   ]
  },
  {
   "cell_type": "markdown",
   "metadata": {},
   "source": [
    "### 回答1：（双击在下面回答问题）\n",
    "python中有许多模块，import是把指定模块导入到当前程序中。"
   ]
  },
  {
   "cell_type": "markdown",
   "metadata": {},
   "source": [
    "### 问题2：\n",
    "def preprocess_data(dataset)和def preprocess_data() ，在函数调用时实参有什么不同？"
   ]
  },
  {
   "cell_type": "code",
   "execution_count": 2,
   "metadata": {},
   "outputs": [],
   "source": [
    "# Try your code here\n"
   ]
  },
  {
   "cell_type": "markdown",
   "metadata": {},
   "source": [
    "### 回答2：（双击在下面回答问题）\n",
    "第一个函数定义在调用时，要在括号里写入对应实参，第二个没有定义形参，因此不需要在调用时写上实参。"
   ]
  },
  {
   "cell_type": "markdown",
   "metadata": {},
   "source": [
    "### 问题3：\n",
    "预先定义好dataset，def preprocess_data(dataset)和def preprocess_data()中，都使用了dataset，这两种情况下，dataset的作用域有何不同？"
   ]
  },
  {
   "cell_type": "code",
   "execution_count": 3,
   "metadata": {},
   "outputs": [],
   "source": [
    "# Try your code here \n"
   ]
  },
  {
   "cell_type": "markdown",
   "metadata": {},
   "source": [
    "### 回答3：（双击在下面回答问题）\n",
    "第一个dataset的作用域在函数内部，为局部作用，第二个的组用于在整个代码块，为全局作用。"
   ]
  }
 ],
 "metadata": {
  "kernelspec": {
   "display_name": "Python 3",
   "language": "python",
   "name": "python3"
  },
  "language_info": {
   "codemirror_mode": {
    "name": "ipython",
    "version": 3
   },
   "file_extension": ".py",
   "mimetype": "text/x-python",
   "name": "python",
   "nbconvert_exporter": "python",
   "pygments_lexer": "ipython3",
   "version": "3.6.4"
  }
 },
 "nbformat": 4,
 "nbformat_minor": 2
}
