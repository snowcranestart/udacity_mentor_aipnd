{
 "cells": [
  {
   "cell_type": "markdown",
   "metadata": {},
   "source": [
    "# 每日一问：第一天"
   ]
  },
  {
   "cell_type": "markdown",
   "metadata": {},
   "source": [
    "### 任务\n",
    "\n",
    "- 了解数据类型、运算符类型有哪些，不同的数据类型搭配不同的运算符会产生怎样的输出结果，如何进行数据类型转换，字符串的操作方法等等。\n",
    "- 练习使用jupyter notebook基本命令\n",
    "    - 切换到命令模式：**Esc**\n",
    "    - 在区域前插入Cell: **A** \n",
    "    - 在区域后插入Cell: **B**\n",
    "    - 切换成Markdown模式： **M**\n",
    "    - Markdown双击开始编辑\n",
    "    - Code和Markdown区域运行：**Shift + Enter**\n",
    "    - 更多用法你可以参考课程内容，也可以查阅 jupyter notebook [帮助文档](https://jupyter.org/documentation)\n",
    "- 在练习的过程中，如果你遇到问题，你可以回顾课程内容，也可以查阅 [Python官方文档](https://docs.python.org/3/)\n",
    "- 请每位同学选择下面与自己学号对应的问题练习， 学有余力的同学也可以完成所有练习\n"
   ]
  },
  {
   "cell_type": "markdown",
   "metadata": {},
   "source": [
    "### 问题1：\n",
    "① x=4，y=5，print（x+y）       ② x='4',y='5', print(x+y)            这两段代码输出的结果相同么？请解释原因。   "
   ]
  },
  {
   "cell_type": "code",
   "execution_count": 1,
   "metadata": {},
   "outputs": [
    {
     "name": "stdout",
     "output_type": "stream",
     "text": [
      "9\n",
      "45\n"
     ]
    }
   ],
   "source": [
    "# Try your code here\n",
    "x = 4\n",
    "y = 5\n",
    "print(x+y)\n",
    "\n",
    "x = '4'\n",
    "y = '5'\n",
    "print(x+y)\n"
   ]
  },
  {
   "cell_type": "markdown",
   "metadata": {},
   "source": [
    "### 回答1：（双击在下面回答问题）\n",
    "\n",
    "不相同，①的结果是9，是整型，②的结果是“45”，是字符串。\n"
   ]
  },
  {
   "cell_type": "markdown",
   "metadata": {},
   "source": [
    "### 问题2：\n",
    "‘*’和‘**’运算符执行的操作相同么？请举例说明。"
   ]
  },
  {
   "cell_type": "code",
   "execution_count": 2,
   "metadata": {},
   "outputs": [
    {
     "name": "stdout",
     "output_type": "stream",
     "text": [
      "6\n",
      "8\n"
     ]
    }
   ],
   "source": [
    "# Try your code here\n",
    "print(2*3)\n",
    "print(2**3)"
   ]
  },
  {
   "cell_type": "markdown",
   "metadata": {},
   "source": [
    "### 回答2：（双击在下面回答问题）\n",
    "不同，‘*’运算符表示乘法，如2*3=6，‘**’是幂运算，如2**3=8."
   ]
  },
  {
   "cell_type": "markdown",
   "metadata": {},
   "source": [
    "### 问题3：\n",
    "请写出下式的计算结果：100%(2+2)**3//5"
   ]
  },
  {
   "cell_type": "code",
   "execution_count": 3,
   "metadata": {},
   "outputs": [
    {
     "name": "stdout",
     "output_type": "stream",
     "text": [
      "7\n"
     ]
    }
   ],
   "source": [
    "# Try your code here \n",
    "print(100%(2+2)**3//5)"
   ]
  },
  {
   "cell_type": "markdown",
   "metadata": {},
   "source": [
    "### 回答3：（双击在下面回答问题）\n",
    "- 2+2 = 4\n",
    "- 4**3 = 64\n",
    "- 100%64 = 36\n",
    "- 36//5 =7\n"
   ]
  },
  {
   "cell_type": "markdown",
   "metadata": {},
   "source": [
    "### 问题4：\n",
    "'‘10/3'，‘10//3’和'10%3'结果相同么？请说明原因。"
   ]
  },
  {
   "cell_type": "code",
   "execution_count": 4,
   "metadata": {},
   "outputs": [
    {
     "name": "stdout",
     "output_type": "stream",
     "text": [
      "3.3333333333333335\n",
      "3\n",
      "1\n"
     ]
    }
   ],
   "source": [
    "# Try your code here \n",
    "print(10/3)\n",
    "print(10//3)\n",
    "print(10%3)"
   ]
  },
  {
   "cell_type": "markdown",
   "metadata": {},
   "source": [
    "### 回答4：（双击在下面回答问题）\n",
    "不相同，10/3=3.33……，包含小数位,是一般的除法操作；10//3=3，结果向下取整，是整除操作；10%3=1，结果是10除以3的余数，是取余操作。"
   ]
  },
  {
   "cell_type": "markdown",
   "metadata": {},
   "source": [
    "### 问题5：\n",
    "浮点型和整型可以调用islower么？执行\"Udacity\".islower()和\"udacity\".islower()分别会得到什么结果？为什么？"
   ]
  },
  {
   "cell_type": "code",
   "execution_count": 5,
   "metadata": {},
   "outputs": [
    {
     "name": "stdout",
     "output_type": "stream",
     "text": [
      "False\n",
      "True\n"
     ]
    }
   ],
   "source": [
    "# Try your code here \n",
    "print(\"Udacity\".islower())\n",
    "print(\"udacity\".islower())\n"
   ]
  },
  {
   "cell_type": "markdown",
   "metadata": {},
   "source": [
    "### 回答5：（双击在下面回答问题）\n",
    "浮点型和整型不可以调用islower，islower是判断字符串中是否都是小写字母，所以\"Udacity\".islower()得到的结果为False，\"udacity\".islower()得到结果为True。"
   ]
  },
  {
   "cell_type": "markdown",
   "metadata": {},
   "source": [
    "### 问题6：\n",
    "什么是科学计数法？51200000.0如何用python语法中的科学计数法表示？\n"
   ]
  },
  {
   "cell_type": "code",
   "execution_count": 6,
   "metadata": {},
   "outputs": [
    {
     "name": "stdout",
     "output_type": "stream",
     "text": [
      "51200000.0\n"
     ]
    }
   ],
   "source": [
    "# Try your code here \n",
    "print(5.12e7)"
   ]
  },
  {
   "cell_type": "markdown",
   "metadata": {},
   "source": [
    "### 回答6：（双击在下面回答问题）\n",
    "科学记数法是一种记数的方法。把一个数表示成a（1≤a<10，n为整数）与10的幂相乘的形式，这种记数法叫做科学记数法。5.12e7."
   ]
  },
  {
   "cell_type": "markdown",
   "metadata": {},
   "source": [
    "### 问题7：\n",
    "计算下式，并用科学计数法表示结果：3.14e7*0.8"
   ]
  },
  {
   "cell_type": "code",
   "execution_count": 7,
   "metadata": {},
   "outputs": [
    {
     "name": "stdout",
     "output_type": "stream",
     "text": [
      "251200000.0\n"
     ]
    }
   ],
   "source": [
    "# Try your code here \n",
    "print(3.14e7*8)"
   ]
  },
  {
   "cell_type": "markdown",
   "metadata": {},
   "source": [
    "### 回答7：（双击在下面回答问题）\n",
    "2.512e*7"
   ]
  },
  {
   "cell_type": "markdown",
   "metadata": {},
   "source": [
    "### 问题8：\n",
    "int（3.14159）和float（3）分别会输出什么结果？为什么？"
   ]
  },
  {
   "cell_type": "code",
   "execution_count": 8,
   "metadata": {},
   "outputs": [
    {
     "name": "stdout",
     "output_type": "stream",
     "text": [
      "3\n",
      "3.0\n"
     ]
    }
   ],
   "source": [
    "# Try your code here \n",
    "print(int(3.14159))\n",
    "print(float(3))"
   ]
  },
  {
   "cell_type": "markdown",
   "metadata": {},
   "source": [
    "### 回答8：（双击在下面回答问题）\n",
    "3和3.0。int（）是强制转换成整型，float（）是强制转化成浮点型。"
   ]
  },
  {
   "cell_type": "markdown",
   "metadata": {},
   "source": [
    "### 问题9：\n",
    "表达式运行后的结果，在未再次运行表达式的情况下，会随着表达式的改变而改变么？为什么？"
   ]
  },
  {
   "cell_type": "code",
   "execution_count": 9,
   "metadata": {},
   "outputs": [
    {
     "name": "stdout",
     "output_type": "stream",
     "text": [
      "12\n",
      "12\n"
     ]
    }
   ],
   "source": [
    "# Try your code here \n",
    "a = 3\n",
    "b = 4\n",
    "c = a*b\n",
    "print(c)\n",
    "b = 5\n",
    "print(c)"
   ]
  },
  {
   "cell_type": "markdown",
   "metadata": {},
   "source": [
    "### 回答9：（双击在下面回答问题）\n",
    "不会改变，表达式计算结果赋值给变量后，变量会忘记现在的表达式，更改表达式后，必须再次运行，再能对变量再次赋值。"
   ]
  },
  {
   "cell_type": "markdown",
   "metadata": {},
   "source": [
    "### 问题10：\n",
    "4,\"4\"和4.0表示的含义相同么？为什么？"
   ]
  },
  {
   "cell_type": "code",
   "execution_count": 10,
   "metadata": {},
   "outputs": [
    {
     "name": "stdout",
     "output_type": "stream",
     "text": [
      "<class 'int'>\n",
      "<class 'str'>\n",
      "<class 'float'>\n"
     ]
    }
   ],
   "source": [
    "# Try your code here \n",
    "print(type(4))\n",
    "print(type(\"4\"))\n",
    "print(type(4.0))"
   ]
  },
  {
   "cell_type": "markdown",
   "metadata": {},
   "source": [
    "### 回答10：（双击在下面回答问题）\n",
    "不相同。4表示整型数据，“4”表示字符串数据，4.0是浮点型数据。"
   ]
  },
  {
   "cell_type": "markdown",
   "metadata": {},
   "source": [
    "### 问题11：\n",
    "x=4，y='4',      print(x\\*4)和print(y\\*4)的输出结果相同么？为什么？"
   ]
  },
  {
   "cell_type": "code",
   "execution_count": 11,
   "metadata": {},
   "outputs": [
    {
     "name": "stdout",
     "output_type": "stream",
     "text": [
      "16\n",
      "4444\n"
     ]
    }
   ],
   "source": [
    "# Try your code here \n",
    "x = 4\n",
    "y = '4'\n",
    "print(x*4)\n",
    "print(y*4)"
   ]
  },
  {
   "cell_type": "markdown",
   "metadata": {},
   "source": [
    "### 回答11：（双击在下面回答问题）\n",
    "不相同，x是整型，x\\*4得到的也是整型数据12，y是字符串，y\\*4得到的依旧是字符串，4444."
   ]
  },
  {
   "cell_type": "markdown",
   "metadata": {},
   "source": [
    "### 问题12：\n",
    "检查数据类型的指令是什么？请举例说明使用方法和输出结果"
   ]
  },
  {
   "cell_type": "code",
   "execution_count": 12,
   "metadata": {},
   "outputs": [
    {
     "name": "stdout",
     "output_type": "stream",
     "text": [
      "<class 'str'>\n"
     ]
    }
   ],
   "source": [
    "# Try your code here \n",
    "print(type(\"Udacity\"))"
   ]
  },
  {
   "cell_type": "markdown",
   "metadata": {},
   "source": [
    "### 回答12：（双击在下面回答问题）\n",
    "type()。例如type(\"Udacity\")输出类型为str。"
   ]
  },
  {
   "cell_type": "markdown",
   "metadata": {},
   "source": [
    "### 问题13：\n",
    "'='和'=='分别表示什么含义？print(2==5)输出什么结果？属于什么类型数据？"
   ]
  },
  {
   "cell_type": "code",
   "execution_count": 13,
   "metadata": {},
   "outputs": [
    {
     "name": "stdout",
     "output_type": "stream",
     "text": [
      "False\n",
      "3\n"
     ]
    }
   ],
   "source": [
    "# Try your code here \n",
    "print(2==5)\n",
    "a = 3\n",
    "print(a)"
   ]
  },
  {
   "cell_type": "markdown",
   "metadata": {},
   "source": [
    "### 回答13：（双击在下面回答问题）\n",
    "'='表示赋值将符号右边的值赋给左边，'=='是判断符号两边是否相等，print（2==5）会输出false，为布尔型。"
   ]
  },
  {
   "cell_type": "markdown",
   "metadata": {},
   "source": [
    "### 问题14：\n",
    "逻辑运算符主要有哪些？分别在什么情况下整个表达式结果为True？"
   ]
  },
  {
   "cell_type": "code",
   "execution_count": 14,
   "metadata": {},
   "outputs": [
    {
     "name": "stdout",
     "output_type": "stream",
     "text": [
      "True\n",
      "True\n",
      "True\n"
     ]
    }
   ],
   "source": [
    "# Try your code here \n",
    "x = True\n",
    "y = True\n",
    "print(x and y)\n",
    "y = False\n",
    "print(x or y)\n",
    "print(not y)"
   ]
  },
  {
   "cell_type": "markdown",
   "metadata": {},
   "source": [
    "### 回答14：（双击在下面回答问题）\n",
    "- and\t（x and y）\t如果x为false，返回false，否则返回y的值\n",
    "- or\t（x or y）\t如果x为true，返回true，否则返回y的值\n",
    "- not\t（not x）\t如果x为true返回false，如果x为false返回true"
   ]
  },
  {
   "cell_type": "markdown",
   "metadata": {},
   "source": [
    "### 问题15：\n",
    "string1='I'm a student.'          print(string1)结果会报错么？如何修改string1使其得到正确的输出？"
   ]
  },
  {
   "cell_type": "code",
   "execution_count": 15,
   "metadata": {},
   "outputs": [
    {
     "name": "stdout",
     "output_type": "stream",
     "text": [
      "I'am a Student.\n",
      "I'am a Student.\n"
     ]
    }
   ],
   "source": [
    "# Try your code here \n",
    "string1 =\"I'am a Student.\"\n",
    "print(string1)\n",
    "string2 = 'I\\'am a Student.'\n",
    "print(string2)"
   ]
  },
  {
   "cell_type": "markdown",
   "metadata": {},
   "source": [
    "### 回答15：（双击在下面回答问题）\n",
    "会报错，由于字符串中出现了',而字符串两边也是' '，可以将字符两边改为\"\"，也可以在字符串中的’前加上\\."
   ]
  }
 ],
 "metadata": {
  "kernelspec": {
   "display_name": "Python 3",
   "language": "python",
   "name": "python3"
  },
  "language_info": {
   "codemirror_mode": {
    "name": "ipython",
    "version": 3
   },
   "file_extension": ".py",
   "mimetype": "text/x-python",
   "name": "python",
   "nbconvert_exporter": "python",
   "pygments_lexer": "ipython3",
   "version": "3.6.4"
  }
 },
 "nbformat": 4,
 "nbformat_minor": 2
}
