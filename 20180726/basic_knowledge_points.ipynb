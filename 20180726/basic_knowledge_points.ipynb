{
 "cells": [
  {
   "cell_type": "code",
   "execution_count": 2,
   "metadata": {},
   "outputs": [
    {
     "name": "stdout",
     "output_type": "stream",
     "text": [
      "<class 'int'>\n",
      "1\n"
     ]
    }
   ],
   "source": [
    "# 数据类型\n",
    "# 布尔型，整型，浮点型\n",
    "# 字符串\n",
    "# 列表，集合，元组，字典，\n",
    "# 列表最常用，集合用于需要唯一数据的情况，字典适合有映射关系的数据，元组用于表示有一定关系的数据\n",
    "\n",
    "a = 1\n",
    "print(type(a))\n",
    "print(a)"
   ]
  },
  {
   "cell_type": "code",
   "execution_count": 3,
   "metadata": {},
   "outputs": [
    {
     "name": "stdout",
     "output_type": "stream",
     "text": [
      "hello\n",
      "'hello'\n"
     ]
    }
   ],
   "source": [
    "# print() 输出字符串为什么没有引号\n",
    "a = \"hello\"\n",
    "print(a)\n",
    "a = \"'hello'\"\n",
    "print(a)"
   ]
  },
  {
   "cell_type": "code",
   "execution_count": 4,
   "metadata": {},
   "outputs": [
    {
     "name": "stdout",
     "output_type": "stream",
     "text": [
      "<class 'list'>\n",
      "<class 'set'>\n",
      "<class 'tuple'>\n",
      "<class 'dict'>\n"
     ]
    }
   ],
   "source": [
    "a1 = [1,2,3]  #最常用\n",
    "a2 = set(a1)  #元素唯一，去重\n",
    "a3 = (1,2,3)  #有关系的几个变量放一起\n",
    "a4 ={\"a\":1, \"b\":2, \"c\":3}  #映射关系\n",
    "print(type(a1))\n",
    "print(type(a2))\n",
    "print(type(a3))\n",
    "print(type(a4))"
   ]
  },
  {
   "cell_type": "code",
   "execution_count": 1,
   "metadata": {},
   "outputs": [
    {
     "name": "stdout",
     "output_type": "stream",
     "text": [
      "string A\n",
      "string Astring B\n",
      "1\n",
      "2\n",
      "你说它不可变，不是变了吗？\n"
     ]
    }
   ],
   "source": [
    "# 不可变性\n",
    "# 不可变对象：布尔型，整型，浮点型，字符串，元组\n",
    "# 可变对象：列表，字典，集合\n",
    "a = \"string A\"\n",
    "print(a)\n",
    "a = a+ \"string B\"\n",
    "print(a)\n",
    "b = 1\n",
    "print(b)\n",
    "b = 2\n",
    "print(b)\n",
    "\n",
    "print(\"你说它不可变，不是变了吗？\")"
   ]
  },
  {
   "cell_type": "code",
   "execution_count": 3,
   "metadata": {},
   "outputs": [
    {
     "name": "stdout",
     "output_type": "stream",
     "text": [
      "4494034232\n",
      "同一变量但是地址已经不一样\n",
      "4459970152\n",
      "不同变量但是地址一样\n",
      "4494034232\n",
      "4437816656\n",
      "4437816656\n"
     ]
    }
   ],
   "source": [
    "# id() 查看的是当前变量的地址值\n",
    "a = \"stringA\"\n",
    "print(id(a))\n",
    "a = \"stringB\"\n",
    "print(\"同一变量但是地址已经不一样\")\n",
    "print(id(a))\n",
    "b = \"stringA\"\n",
    "print(\"不同变量但是地址一样\")\n",
    "print(id(b))\n",
    "c = 1\n",
    "print(id(c))\n",
    "d = 1\n",
    "print(id(d))"
   ]
  },
  {
   "cell_type": "code",
   "execution_count": 2,
   "metadata": {},
   "outputs": [
    {
     "name": "stdout",
     "output_type": "stream",
     "text": [
      "4547796232\n",
      "4547796232\n"
     ]
    }
   ],
   "source": [
    "a = [1,2,3]\n",
    "print(id(a))\n",
    "a.append(4)\n",
    "print(id(a))"
   ]
  },
  {
   "cell_type": "code",
   "execution_count": 12,
   "metadata": {},
   "outputs": [
    {
     "name": "stdout",
     "output_type": "stream",
     "text": [
      "False\n"
     ]
    }
   ],
   "source": [
    "##  布尔表达式，用于条件判断\n",
    "\n",
    "## 逻辑运算符（and, not, or)， 比较运算符(>, <, ==)， \n",
    "## 运算恒等式(is, is not)，成员运算符（in , not in)\n",
    "## 算式\n",
    "## 非布尔表达式： True： 对象\n",
    "## 非布尔表达式： False： None， False， \n",
    "## 非布尔表达式： False： 0， 0.0， 0j， Decimal（0），Fraction(0,1)，\n",
    "## 非布尔表达式： False: \"\", (), [], {}, set(), range(0)\n",
    "\n",
    "## 建议\n",
    "## 不要直接用布尔值，因为不是有效的条件\n",
    "## 逻辑运算符两边是布尔表达式\n",
    "## 不要用 == True 或者 == False\n",
    "## 不要用太绕，太复杂，有歧义的组合，有优先级的，尽量用 可读性太差\n",
    "\n",
    "## 提一下包导入\n",
    "\n",
    "from decimal import Decimal\n",
    "from fractions import Fraction\n",
    "\n",
    "a = \"string A\"\n",
    "b = \"string A\"\n",
    "if Decimal(0):\n",
    "    print(\"True\")\n",
    "else:\n",
    "    print(\"False\")"
   ]
  },
  {
   "cell_type": "code",
   "execution_count": 14,
   "metadata": {},
   "outputs": [
    {
     "name": "stdout",
     "output_type": "stream",
     "text": [
      "True\n",
      "True\n",
      "True\n"
     ]
    }
   ],
   "source": [
    "## 逻辑运算符的顺序\n",
    "## and （x and y） 如果x为false，返回false，否则返回y的值\n",
    "## or （x or y） 如果x为true，返回true，否则返回y的值\n",
    "## not （not x） 如果x为true返回false，如果x为false返回true\n",
    "\n",
    "x = True\n",
    "y = True\n",
    "print(x and y)\n",
    "y = False\n",
    "print(x or y)\n",
    "print(not y)"
   ]
  },
  {
   "cell_type": "code",
   "execution_count": 15,
   "metadata": {},
   "outputs": [
    {
     "name": "stdout",
     "output_type": "stream",
     "text": [
      "['aaa', 'aaaaaaaaa', 'aaaaaaaa']\n",
      "['aaaaaaaaa', 'aaaaaaaa']\n"
     ]
    }
   ],
   "source": [
    "## 列表推导式\n",
    "\n",
    "a = [\"aaa\", \"aaaaaaaaa\", \"aaaaaaaa\"]\n",
    "print(a)\n",
    "b = [item for item in a if len(item)>3]\n",
    "print(b)"
   ]
  },
  {
   "cell_type": "code",
   "execution_count": 17,
   "metadata": {},
   "outputs": [
    {
     "name": "stdout",
     "output_type": "stream",
     "text": [
      "['及格', '及格', '不及格', '不及格', '及格', '不及格', '及格', '及格', '及格']\n"
     ]
    }
   ],
   "source": [
    "a = [98, 99, 20, 30, 60, 50, 80,88, 67]\n",
    "b = [\"及格\" if score>=60 else \"不及格\" for score in a]\n",
    "print(b)"
   ]
  },
  {
   "cell_type": "code",
   "execution_count": null,
   "metadata": {},
   "outputs": [],
   "source": [
    "## 循环While 一种无限迭代循环，指循环重复未知次数，并在满足某个条件时结束\n",
    "## 循环for 用来遍历可迭代对象"
   ]
  },
  {
   "cell_type": "code",
   "execution_count": 7,
   "metadata": {},
   "outputs": [
    {
     "name": "stdout",
     "output_type": "stream",
     "text": [
      "1\n",
      "2\n",
      "3\n",
      "1\n",
      "2\n",
      "3\n",
      "a:1\n",
      "b:2\n",
      "c:3\n",
      "李明\n",
      "韩梅梅\n"
     ]
    }
   ],
   "source": [
    "## 可迭代对象，迭代器，生成器，用于产生循环序列 for...in\n",
    "## 可迭代对象，列表, 元组， 字典， 集合， 字符串, 是序列，不是数据流\n",
    "## 迭代器，可以产生的迭代对象序列，每次返回一个对象，是数据流，不可回溯\n",
    "\n",
    "# 可迭代对象，序列\n",
    "a = [1,2,3]\n",
    "b = set(a)\n",
    "c = (1,2,3)\n",
    "d = \"123\"\n",
    "e = {\"a\":1, \"b\":2, \"c\":3}\n",
    "f = [{\"ID\":1, \"Name\":\"李明\"},{\"ID\":2, \"Name\":\"韩梅梅\"}]\n",
    "\n",
    "for n in a:\n",
    "    print(n)\n",
    "\n",
    "for number in d:\n",
    "    print(number)\n",
    "for item in e:\n",
    "    print(\"{}:{}\".format(item[0], e[item]))\n",
    "    \n",
    "for item in f:\n",
    "    print(item['Name'])\n",
    "\n",
    "#注意这里的number, item, 是一个临时变量，名字可以随便取\n",
    "#每一次循环，都将可迭代对象中的一个值赋值给它，\n",
    "#如果序列是一个整型列表，则每一次取出来的值就是列表中的一个整型数字\n",
    "#如果序列是一个字符串，则每一次取出来的值就是字符串中的一个字符\n",
    "#如果序列是一个字典，则每次取出来的值就是一个键值对\n",
    "#如果序列是一个字典类型的列表，则每次取出来的值就是列表中的一个字典,要想获得该字典中的某个属性值，先获取字典，再通过字典[key]的方式获取值"
   ]
  },
  {
   "cell_type": "code",
   "execution_count": 20,
   "metadata": {},
   "outputs": [
    {
     "name": "stdout",
     "output_type": "stream",
     "text": [
      "['a', 'b', 'c']\n",
      "a\n",
      "b\n",
      "c\n",
      "0:a\n",
      "1:b\n",
      "2:c\n"
     ]
    }
   ],
   "source": [
    "#迭代器 可以产生可迭代对象\n",
    "a = [\"a\",\"b\",\"c\"]\n",
    "print(a)\n",
    "for i in range(3):\n",
    "    print(a[i])\n",
    "\n",
    "for i, value in enumerate(a):\n",
    "    print(\"{}:{}\".format(i,value))\n"
   ]
  },
  {
   "cell_type": "code",
   "execution_count": 3,
   "metadata": {},
   "outputs": [
    {
     "name": "stdout",
     "output_type": "stream",
     "text": [
      "(0, 'a')\n",
      "(1, 'b')\n",
      "(2, 'c')\n"
     ]
    },
    {
     "ename": "TypeError",
     "evalue": "'enumerate' object is not subscriptable",
     "output_type": "error",
     "traceback": [
      "\u001b[0;31m---------------------------------------------------------------------------\u001b[0m",
      "\u001b[0;31mTypeError\u001b[0m                                 Traceback (most recent call last)",
      "\u001b[0;32m<ipython-input-3-c8f84ce1afab>\u001b[0m in \u001b[0;36m<module>\u001b[0;34m()\u001b[0m\n\u001b[1;32m      6\u001b[0m     \u001b[0mprint\u001b[0m\u001b[0;34m(\u001b[0m\u001b[0mitem\u001b[0m\u001b[0;34m)\u001b[0m\u001b[0;34m\u001b[0m\u001b[0m\n\u001b[1;32m      7\u001b[0m \u001b[0;34m\u001b[0m\u001b[0m\n\u001b[0;32m----> 8\u001b[0;31m \u001b[0mprint\u001b[0m\u001b[0;34m(\u001b[0m\u001b[0mb\u001b[0m\u001b[0;34m[\u001b[0m\u001b[0;36m0\u001b[0m\u001b[0;34m]\u001b[0m\u001b[0;34m)\u001b[0m\u001b[0;34m\u001b[0m\u001b[0m\n\u001b[0m",
      "\u001b[0;31mTypeError\u001b[0m: 'enumerate' object is not subscriptable"
     ]
    }
   ],
   "source": [
    "#迭代器 是数据流，不可回溯, 用过一次就没了\n",
    "a = [\"a\",\"b\",\"c\"]\n",
    "\n",
    "b = enumerate(a)\n",
    "for item in b:\n",
    "    print(item)\n",
    "\n",
    "print(b[0])"
   ]
  },
  {
   "cell_type": "code",
   "execution_count": 70,
   "metadata": {},
   "outputs": [
    {
     "name": "stdout",
     "output_type": "stream",
     "text": [
      "<class 'generator'>\n",
      "0\n",
      "1\n",
      "2\n"
     ]
    }
   ],
   "source": [
    "##选修：生成器， yield关键字， 每次只返回一个对象，适用于大量数据，内存紧张的时候，训练大量数据的模型比用，否则爆内存\n",
    "def my_generator_range(x):\n",
    "    i = 0\n",
    "    while i < x:\n",
    "        yield i\n",
    "        i += 1\n",
    "\n",
    "a = my_generator_range(3)\n",
    "print(type(a))\n",
    "\n",
    "for item in a:\n",
    "    print(item)\n"
   ]
  },
  {
   "cell_type": "code",
   "execution_count": 75,
   "metadata": {},
   "outputs": [
    {
     "name": "stdout",
     "output_type": "stream",
     "text": [
      "True\n",
      "5\n"
     ]
    }
   ],
   "source": [
    "# 函数  组织代码的方式，重用\n",
    "## 内置函数\n",
    "# print(), type(), len(), max(), min(), int(), float(), sorted()\n",
    "# range(), enumerate(),\n",
    "# 函数和方法的区别： \n",
    "# - 方法也是函数，是对象的函数，先有对象，通过对象调用对象的方法，本身为参数，参数可以有其它对象, 也可以没有\n",
    "# - 一般函数不用通过对象调用，一般有其它对象作为参数\n",
    "# 选修zip(), map(), filter, 拆封\n",
    "# 选修 lambda表达式\n",
    "\n",
    "a = \"hello\"\n",
    "print(a.islower())\n",
    "print(len(a))"
   ]
  },
  {
   "cell_type": "code",
   "execution_count": 9,
   "metadata": {},
   "outputs": [
    {
     "name": "stdout",
     "output_type": "stream",
     "text": [
      "['aaa', 'abbbb', 'baaaaa', 'cd', 'i']\n",
      "['i', 'cd', 'aaa', 'abbbb', 'baaaaa']\n",
      "['baaaaa', 'abbbb', 'aaa', 'cd', 'i']\n"
     ]
    }
   ],
   "source": [
    "#列表方法sort， 字符串排序\n",
    "\n",
    "str_list = ['aaa', 'abbbb', 'baaaaa', 'i', 'cd']\n",
    "#默认按照字母排序\n",
    "str_list.sort()\n",
    "print(str_list) \n",
    "\n",
    "#按照字符串长度排序\n",
    "str_list.sort(key=len)\n",
    "print(str_list)\n",
    "\n",
    "#反序\n",
    "str_list.sort(key=len, reverse=True)#反序\n",
    "print(str_list) "
   ]
  },
  {
   "cell_type": "code",
   "execution_count": null,
   "metadata": {},
   "outputs": [],
   "source": []
  }
 ],
 "metadata": {
  "kernelspec": {
   "display_name": "Python 3",
   "language": "python",
   "name": "python3"
  },
  "language_info": {
   "codemirror_mode": {
    "name": "ipython",
    "version": 3
   },
   "file_extension": ".py",
   "mimetype": "text/x-python",
   "name": "python",
   "nbconvert_exporter": "python",
   "pygments_lexer": "ipython3",
   "version": "3.6.4"
  }
 },
 "nbformat": 4,
 "nbformat_minor": 2
}
